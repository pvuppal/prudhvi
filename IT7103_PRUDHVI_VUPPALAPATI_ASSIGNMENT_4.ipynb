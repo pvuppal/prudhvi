{
  "nbformat": 4,
  "nbformat_minor": 0,
  "metadata": {
    "colab": {
      "provenance": [],
      "include_colab_link": true
    },
    "kernelspec": {
      "name": "python3",
      "display_name": "Python 3"
    },
    "language_info": {
      "name": "python"
    }
  },
  "cells": [
    {
      "cell_type": "markdown",
      "metadata": {
        "id": "view-in-github",
        "colab_type": "text"
      },
      "source": [
        "<a href=\"https://colab.research.google.com/github/pvuppal/prudhvi/blob/main/IT7103_PRUDHVI_VUPPALAPATI_ASSIGNMENT_4.ipynb\" target=\"_parent\"><img src=\"https://colab.research.google.com/assets/colab-badge.svg\" alt=\"Open In Colab\"/></a>"
      ]
    },
    {
      "cell_type": "code",
      "execution_count": null,
      "metadata": {
        "id": "w0lTcFjvzVhi"
      },
      "outputs": [],
      "source": [
        "import pandas as pd\n",
        "from sklearn.model_selection import train_test_split\n",
        "from sklearn.svm import SVC\n",
        "from sklearn.model_selection import GridSearchCV\n",
        "from sklearn.metrics import accuracy_score"
      ]
    },
    {
      "cell_type": "code",
      "source": [
        "df = pd.read_csv('breast-cancer.csv')"
      ],
      "metadata": {
        "id": "V4rB3zuk2bLb"
      },
      "execution_count": null,
      "outputs": []
    },
    {
      "cell_type": "code",
      "source": [
        "X = df.iloc[:, 1:-1]\n",
        "y = df.iloc[:, -1]"
      ],
      "metadata": {
        "id": "OX-mp8zd2e-6"
      },
      "execution_count": null,
      "outputs": []
    },
    {
      "cell_type": "code",
      "source": [
        "X_train, X_test, y_train, y_test = train_test_split(X, y, test_size=0.2, random_state=42)"
      ],
      "metadata": {
        "id": "awKbbyN82fBK"
      },
      "execution_count": null,
      "outputs": []
    },
    {
      "cell_type": "code",
      "source": [
        "param_grid_linear = {\n",
        "    'C': [0.1, 1, 10, 100],\n",
        "    'kernel': ['linear']\n",
        "}"
      ],
      "metadata": {
        "id": "URDj5El72fEy"
      },
      "execution_count": null,
      "outputs": []
    },
    {
      "cell_type": "code",
      "source": [
        "param_grid_rbf = {\n",
        "    'C': [0.1, 1, 10, 100],\n",
        "    'kernel': ['rbf'],\n",
        "    'gamma': [0.1, 1, 10]\n",
        "}"
      ],
      "metadata": {
        "id": "Y52DE1VJ2fIa"
      },
      "execution_count": null,
      "outputs": []
    },
    {
      "cell_type": "code",
      "source": [
        "linear_svm = SVC()\n",
        "linear_svm_grid = GridSearchCV(linear_svm, param_grid_linear, cv=5)\n",
        "linear_svm_grid.fit(X_train, y_train)\n",
        "\n",
        "print(\"Linear SVM - Best Parameters:\", linear_svm_grid.best_params_)\n",
        "print(\"Linear SVM - Cross-validation Accuracy:\", linear_svm_grid.best_score_)"
      ],
      "metadata": {
        "colab": {
          "base_uri": "https://localhost:8080/"
        },
        "id": "4-tMuaTN2fKS",
        "outputId": "91eb2a24-e3b6-4fb0-b70b-a2097f8ec1e3"
      },
      "execution_count": null,
      "outputs": [
        {
          "output_type": "stream",
          "name": "stdout",
          "text": [
            "Linear SVM - Best Parameters: {'C': 0.1, 'kernel': 'linear'}\n",
            "Linear SVM - Cross-validation Accuracy: 0.9606016731016732\n"
          ]
        }
      ]
    },
    {
      "cell_type": "code",
      "source": [
        "linear_svm_pred = linear_svm_grid.predict(X_test)\n",
        "\n",
        "linear_svm_accuracy = accuracy_score(y_test, linear_svm_pred)\n",
        "print(\"Linear SVM - Testing Accuracy:\", linear_svm_accuracy)"
      ],
      "metadata": {
        "colab": {
          "base_uri": "https://localhost:8080/"
        },
        "id": "8HfyNHMw2fMC",
        "outputId": "a6912b07-a0bc-4946-a5ab-160a2a458ed7"
      },
      "execution_count": null,
      "outputs": [
        {
          "output_type": "stream",
          "name": "stdout",
          "text": [
            "Linear SVM - Testing Accuracy: 0.9642857142857143\n"
          ]
        }
      ]
    },
    {
      "cell_type": "code",
      "source": [
        "rbf_svm = SVC()\n",
        "rbf_svm_grid = GridSearchCV(rbf_svm, param_grid_rbf, cv=5)\n",
        "rbf_svm_grid.fit(X_train, y_train)\n",
        "\n",
        "print(\"Kernel SVM (RBF) - Best Parameters:\", rbf_svm_grid.best_params_)\n",
        "print(\"Kernel SVM (RBF) - Cross-validation Accuracy:\", rbf_svm_grid.best_score_)"
      ],
      "metadata": {
        "colab": {
          "base_uri": "https://localhost:8080/"
        },
        "id": "h2Vkz6n42fP7",
        "outputId": "b0470382-e553-4e04-d950-3d47586df2b4"
      },
      "execution_count": null,
      "outputs": [
        {
          "output_type": "stream",
          "name": "stdout",
          "text": [
            "Kernel SVM (RBF) - Best Parameters: {'C': 1, 'gamma': 0.1, 'kernel': 'rbf'}\n",
            "Kernel SVM (RBF) - Cross-validation Accuracy: 0.9588320463320462\n"
          ]
        }
      ]
    },
    {
      "cell_type": "code",
      "source": [
        "rbf_svm_pred = rbf_svm_grid.predict(X_test)\n",
        "\n",
        "rbf_svm_accuracy = accuracy_score(y_test, rbf_svm_pred)\n",
        "print(\"Kernel SVM (RBF) - Testing Accuracy:\", rbf_svm_accuracy)"
      ],
      "metadata": {
        "colab": {
          "base_uri": "https://localhost:8080/"
        },
        "id": "jnvLhENV2fR6",
        "outputId": "1f642878-c502-4b68-e2d9-dea05f0718c8"
      },
      "execution_count": null,
      "outputs": [
        {
          "output_type": "stream",
          "name": "stdout",
          "text": [
            "Kernel SVM (RBF) - Testing Accuracy: 0.9571428571428572\n"
          ]
        }
      ]
    },
    {
      "cell_type": "code",
      "source": [
        "linear_svm_pred = linear_svm_grid.predict(X_train)\n",
        "\n",
        "linear_svm_accuracy = accuracy_score(y_train, linear_svm_pred)\n",
        "print(\"Linear SVM - Training Accuracy:\", linear_svm_accuracy)"
      ],
      "metadata": {
        "colab": {
          "base_uri": "https://localhost:8080/"
        },
        "id": "PNf0Dy_k2fTs",
        "outputId": "5fe8ea52-8e74-474a-cdc6-408cf6e493f0"
      },
      "execution_count": null,
      "outputs": [
        {
          "output_type": "stream",
          "name": "stdout",
          "text": [
            "Linear SVM - Training Accuracy: 0.9695885509838998\n"
          ]
        }
      ]
    },
    {
      "cell_type": "code",
      "source": [
        "rbf_svm_pred = rbf_svm_grid.predict(X_train)\n",
        "\n",
        "rbf_svm_accuracy = accuracy_score(y_train, rbf_svm_pred)\n",
        "print(\"Kernel SVM (RBF) - Training Accuracy:\", rbf_svm_accuracy)"
      ],
      "metadata": {
        "colab": {
          "base_uri": "https://localhost:8080/"
        },
        "id": "J4xlwnNS2fVq",
        "outputId": "f41728ef-4b5c-409d-a9e6-5dd29f957ef1"
      },
      "execution_count": null,
      "outputs": [
        {
          "output_type": "stream",
          "name": "stdout",
          "text": [
            "Kernel SVM (RBF) - Training Accuracy: 0.9910554561717353\n"
          ]
        }
      ]
    }
  ]
}